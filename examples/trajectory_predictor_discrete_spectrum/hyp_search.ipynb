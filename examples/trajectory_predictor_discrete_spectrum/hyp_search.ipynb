{
 "cells": [
  {
   "cell_type": "markdown",
   "metadata": {},
   "source": [
    "## Hyperparameter search\n",
    "Hyperparameter search using `TrajectoryPredictor` models is very similar to that using `StatePredictor` models, the only thing that needs to change is the data handler."
   ]
  },
  {
   "cell_type": "code",
   "execution_count": 1,
   "metadata": {},
   "outputs": [],
   "source": [
    "from deepk.hyp_search import run_hyp_search\n",
    "from deepk.trajectory_predictor import TrajectoryPredictor_DataHandler"
   ]
  },
  {
   "cell_type": "markdown",
   "metadata": {},
   "source": [
    "### Load data"
   ]
  },
  {
   "cell_type": "code",
   "execution_count": 2,
   "metadata": {},
   "outputs": [],
   "source": [
    "import pickle\n",
    "with open('./data.pkl', 'rb') as f:\n",
    "    data = pickle.load(f)"
   ]
  },
  {
   "cell_type": "code",
   "execution_count": 3,
   "metadata": {},
   "outputs": [],
   "source": [
    "dh = TrajectoryPredictor_DataHandler(\n",
    "    Xtr=data['Xtr'],\n",
    "    Xva=data['Xva']\n",
    ")"
   ]
  },
  {
   "cell_type": "markdown",
   "metadata": {},
   "source": [
    "### Define options for hyperparameter search\n",
    "The `TrajectoryPredictor` class has possible inputs:\n",
    "- `dh`\n",
    "- `encoded_size`\n",
    "- `encoder_hidden_layers`\n",
    "- `decoder_hidden_layers`\n",
    "- `batch_norm`\n",
    "\n",
    "Its `train_net()` method has possible inputs:\n",
    "- `numepochs`\n",
    "- `batch_size`\n",
    "- `early_stopping`\n",
    "- `early_stopping_metric`\n",
    "- `lr`\n",
    "- `weight_decay`\n",
    "- `decoder_loss_weight`\n",
    "- `cond_threshold`\n",
    "- `clip_grad_norm`\n",
    "- `clip_grad_value`\n",
    "\n",
    "All of these inputs, with the exception of `dh` already defined above, can be swept together in the hyperparameter search.\n",
    "\n",
    "For more on the inputs, see the [documentation of `TrajectoryPredictor`](htps://TODO)."
   ]
  },
  {
   "cell_type": "markdown",
   "metadata": {},
   "source": [
    "The remainder of hyperparameter search is as explained in the [State Predictor tutorial](../state_predictor_naca0012/hyp_search.ipynb)."
   ]
  }
 ],
 "metadata": {
  "kernelspec": {
   "display_name": "Python 3.9.12 64-bit",
   "language": "python",
   "name": "python3"
  },
  "language_info": {
   "codemirror_mode": {
    "name": "ipython",
    "version": 3
   },
   "file_extension": ".py",
   "mimetype": "text/x-python",
   "name": "python",
   "nbconvert_exporter": "python",
   "pygments_lexer": "ipython3",
   "version": "3.9.12"
  },
  "orig_nbformat": 4,
  "vscode": {
   "interpreter": {
    "hash": "397704579725e15f5c7cb49fe5f0341eb7531c82d19f2c29d197e8b64ab5776b"
   }
  }
 },
 "nbformat": 4,
 "nbformat_minor": 2
}
