{
 "cells": [
  {
   "cell_type": "markdown",
   "metadata": {},
   "source": [
    "## Tutorial to perform hyperparameter search for DeepKoopman on NACA0012 data\n",
    "Do this tutorial after [`run.ipynb`](./run.ipynb).\n",
    "\n",
    "You might be wondering how we arrived at the input settings for the 'Optimizing' section. The method `deepk.hyp_search:run_hyp_search()` performs hyperparameter search by sweeping inputs to `DeepKoopman` and collecting the loss and ANAE values. These can then be used to select 'good' input settings."
   ]
  },
  {
   "cell_type": "code",
   "execution_count": 1,
   "metadata": {},
   "outputs": [],
   "source": [
    "from deepk.hyp_search import run_hyp_search"
   ]
  },
  {
   "cell_type": "markdown",
   "metadata": {},
   "source": [
    "### Load data"
   ]
  },
  {
   "cell_type": "code",
   "execution_count": 2,
   "metadata": {},
   "outputs": [],
   "source": [
    "import pickle\n",
    "with open('./data.pkl', 'rb') as f:\n",
    "    data = pickle.load(f)"
   ]
  },
  {
   "cell_type": "code",
   "execution_count": 3,
   "metadata": {},
   "outputs": [
    {
     "name": "stderr",
     "output_type": "stream",
     "text": [
      "  0%|          | 0/2 [00:00<?, ?it/s]"
     ]
    },
    {
     "name": "stdout",
     "output_type": "stream",
     "text": [
      "********************************************************************************\n",
      "********************************************************************************\n",
      "Starting DeepKoopman hyperparameter search. Results will be stored in /Users/sourya/work/Essence/deep-koopman/examples/naca0012/hyp_search_GEnnhVHRNjkehezgnpAsLT.csv.\n",
      "\n",
      "Performing total 2 runs. You can interrupt the script at any time (e.g. Ctrl+C), and intermediate results will be available in the above file.\n",
      "\n",
      "Hyperparameters swept over:\n",
      "rank : 3, 6, 8, 10\n",
      "encoded_size : 200, 500, 1000\n",
      "encoder_hidden_layers : [500, 500], [500, 1000], [1000, 500], [500, 500, 500]\n",
      "clip_grad_norm : None, 5.0, 10.0\n",
      "clip_grad_value : None, 2.0\n",
      "\n",
      "Constant hyperparameters:\n",
      "numepochs : 500\n",
      "\n",
      "Other hyperparameters have default values, see https://galoisinc.github.io/deep-koopman/core.html\n",
      "********************************************************************************\n",
      "********************************************************************************\n",
      "\n",
      "Hyperparameters: {'rank': 6, 'encoded_size': 500, 'encoder_hidden_layers': [500, 500], 'clip_grad_norm': 5.0, 'clip_grad_value': None}\n",
      "Deep Koopman log file = /Users/sourya/work/Essence/deep-koopman/examples/naca0012/dk_RzCqZDWEHSexw7BdyfvSqN.log\n"
     ]
    },
    {
     "name": "stderr",
     "output_type": "stream",
     "text": [
      "100%|██████████| 500/500 [00:13<00:00, 36.66it/s]\n",
      " 50%|█████     | 1/2 [00:13<00:13, 13.66s/it]"
     ]
    },
    {
     "name": "stdout",
     "output_type": "stream",
     "text": [
      "\n",
      "\n",
      "\n",
      "Hyperparameters: {'rank': 3, 'encoded_size': 500, 'encoder_hidden_layers': [500, 500, 500], 'clip_grad_norm': None, 'clip_grad_value': None}\n",
      "Deep Koopman log file = /Users/sourya/work/Essence/deep-koopman/examples/naca0012/dk_HSeN34BmwuZ5mtwsijPMfS.log\n"
     ]
    },
    {
     "name": "stderr",
     "output_type": "stream",
     "text": [
      "100%|██████████| 500/500 [00:15<00:00, 33.05it/s]\n",
      "100%|██████████| 2/2 [00:28<00:00, 14.40s/it]"
     ]
    },
    {
     "name": "stdout",
     "output_type": "stream",
     "text": [
      "\n",
      "\n",
      "\n"
     ]
    },
    {
     "name": "stderr",
     "output_type": "stream",
     "text": [
      "\n"
     ]
    },
    {
     "data": {
      "text/plain": [
       "PosixPath('/Users/sourya/work/Essence/deep-koopman/examples/naca0012/hyp_search_GEnnhVHRNjkehezgnpAsLT.csv')"
      ]
     },
     "execution_count": 3,
     "metadata": {},
     "output_type": "execute_result"
    }
   ],
   "source": [
    "run_hyp_search(\n",
    "    data = data,\n",
    "    hyp_options = {\n",
    "        'rank': [3,6,8,10],\n",
    "        'encoded_size': [200,500,1000],\n",
    "        'encoder_hidden_layers': [[500,500],[500,1000],[1000,500],[500,500,500]],\n",
    "        'numepochs': 500,\n",
    "        'clip_grad_norm': [None,5.,10.],\n",
    "        'clip_grad_value': [None,2.]\n",
    "    },\n",
    "    numruns = 2\n",
    ")"
   ]
  },
  {
   "cell_type": "markdown",
   "metadata": {},
   "source": [
    "We highly recommend performing hyperparameter search for any problem as it can lead to massively improved results and overcome numerical instabilities. If required, increase `numruns` to several hundred or even several thousand, which can take several hours to run, but the results are usually worth it."
   ]
  }
 ],
 "metadata": {
  "kernelspec": {
   "display_name": "Python 3.9.12 64-bit",
   "language": "python",
   "name": "python3"
  },
  "language_info": {
   "codemirror_mode": {
    "name": "ipython",
    "version": 3
   },
   "file_extension": ".py",
   "mimetype": "text/x-python",
   "name": "python",
   "nbconvert_exporter": "python",
   "pygments_lexer": "ipython3",
   "version": "3.9.12"
  },
  "orig_nbformat": 4,
  "vscode": {
   "interpreter": {
    "hash": "397704579725e15f5c7cb49fe5f0341eb7531c82d19f2c29d197e8b64ab5776b"
   }
  }
 },
 "nbformat": 4,
 "nbformat_minor": 2
}
